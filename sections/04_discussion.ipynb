{
 "cells": [
  {
   "cell_type": "markdown",
   "id": "bed2a4a2",
   "metadata": {},
   "source": [
    "# Discussion {#sec-disc}\n",
    "\n",
    "\n",
    "## Pair dispersion\n",
    "\n",
    "::: {#fig-seashot-pair-disp}\n",
    "\n",
    "![](images/seashots_pair_dispersion.png){}\n",
    "\n",
    "Seashots taken from OVL OceanDataLab, showing the trajectory of the Statsraad Lehmkhul, the cyclogesotrophic current (from Vardyn) and the position of the SPOT drifters over two weeks, starting the day of the deployment for (a) the first deployment and (b) the third one.\n",
    ":::\n",
    "\n",
    "From the data from the first deployment, we could distinguish two different regimes (see @fig-pair-dispersion). However, the separation between them was not clear on the pair diffusivity (@fig-pair-diffusivity). The change of regime arrives at aptoximately two weeks after the deployment, when the distance between pairs is around 70 km. @fig-seashot-pair-disp shows the position of the ship, the drifters and the cyclogesotrophic current from the release until this moment. In the panel (a) we can see the seashot corresponding to the first deployment. We can observe that the distance $D$ is of the order of the eddies, but not yet the biggest eddies present in the flow. It makes sense that, in this case, the dynamics is still local but changes from a regime where they have been in the same eddy to an intermediate one. At the moment of the writing, five months after the release, he system did not reach yet the diffusive regime.\n",
    "\n",
    "Regarding the third deployment, we can interpret the results shown in the previous section by looking at @fig-seashot-pair-disp. Two weeks after the deployment, the drifters move still all together and the distance they travelled is much smaller than the eddies present in the flow. It is expected, then, that the system remains in a local regime for longer. Our observations are in agreement with the previous results from the literature. <span style=\"color:red\">add citations</span>."
   ]
  },
  {
   "cell_type": "code",
   "execution_count": null,
   "id": "e531bf99",
   "metadata": {},
   "outputs": [],
   "source": []
  }
 ],
 "metadata": {
  "language_info": {
   "name": "python"
  }
 },
 "nbformat": 4,
 "nbformat_minor": 5
}
